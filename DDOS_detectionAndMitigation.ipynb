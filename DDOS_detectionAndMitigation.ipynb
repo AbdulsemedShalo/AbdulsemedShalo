{
  "nbformat": 4,
  "nbformat_minor": 0,
  "metadata": {
    "colab": {
      "provenance": [],
      "toc_visible": true,
      "authorship_tag": "ABX9TyMgpRWKWtgSQS+ACqIJXG11",
      "include_colab_link": true
    },
    "kernelspec": {
      "name": "python3",
      "display_name": "Python 3"
    },
    "language_info": {
      "name": "python"
    }
  },
  "cells": [
    {
      "cell_type": "markdown",
      "metadata": {
        "id": "view-in-github",
        "colab_type": "text"
      },
      "source": [
        "<a href=\"https://colab.research.google.com/github/AbdulsemedShalo/AbdulsemedShalo/blob/main/DDOS_detectionAndMitigation.ipynb\" target=\"_parent\"><img src=\"https://colab.research.google.com/assets/colab-badge.svg\" alt=\"Open In Colab\"/></a>"
      ]
    },
    {
      "cell_type": "code",
      "execution_count": null,
      "metadata": {
        "id": "1U9mUwD4hgVa"
      },
      "outputs": [],
      "source": [
        "# import a libarary to include external Datasets into the source code\n",
        "from google.colab import files\n",
        "\n",
        "fileUpload = files.upload()"
      ]
    },
    {
      "cell_type": "code",
      "source": [
        "import matplotlib.pyplot as plt\n",
        "# plotting different graphs based on dataset\n",
        "\n",
        "from sklearn import preprocessing\n",
        "# impoerting preprocessing tools\n",
        "\n",
        "from sklearn.naive_bayes import GaussianNB\n",
        "# import gaussian naive bayes model\n",
        "\n",
        "from sklearn.tree import DecisionTreeClassifier\n",
        "# import Decision tree classifier for accuracy prediction\n",
        "\n",
        "from sklearn.svm import SVC\n",
        "# import SVM algorithm for accuracy prediction\n",
        "\n",
        "from sklearn.neighbors import KNeighborsClassifier\n",
        "# import KNeighborsClassifier for accuracy prediction\n",
        "\n",
        "from sklearn.linear_model import LogisticRegression\n",
        "# import LogisticRegression for accuracy prediction\n",
        "\n",
        "from sklearn.metrics import accuracy_score\n",
        "#Import scikit-learn accuracy_score module for accuracy calculation\n",
        "\n",
        "from sklearn import metrics\n",
        " #Import scikit-learn metrics module for accuracy calculation\n",
        "\n",
        " #import pandas and numpy python libraries for machine learning\n",
        "import pandas as pd\n",
        "import numpy as np\n",
        "\n",
        "\n",
        "# to check the number of rows we want to read for a preview\n",
        "nRowsRead = None\n",
        "\n",
        "# the path for a testing dataframe\n",
        "file_path_test=\"/content/tester.csv\"\n",
        "\n",
        "# the path for a training dataframe\n",
        "file_path_train=\"/content/trainer.csv\"\n",
        "\n",
        "\n"
      ],
      "metadata": {
        "id": "v6JAkjzMifpP"
      },
      "execution_count": null,
      "outputs": []
    }
  ]
}